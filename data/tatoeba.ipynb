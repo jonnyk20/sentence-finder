{
 "cells": [
  {
   "cell_type": "code",
   "execution_count": 1,
   "metadata": {},
   "outputs": [],
   "source": [
    "import pandas as pd\n",
    "import datetime\n",
    "import csv"
   ]
  },
  {
   "cell_type": "code",
   "execution_count": 8,
   "metadata": {},
   "outputs": [],
   "source": [
    "links = pd.read_csv('links.csv', names=[\"sentenceId\", \"translationId\"], sep='\\t')"
   ]
  },
  {
   "cell_type": "code",
   "execution_count": 17,
   "metadata": {},
   "outputs": [
    {
     "data": {
      "text/html": [
       "<div>\n",
       "<style scoped>\n",
       "    .dataframe tbody tr th:only-of-type {\n",
       "        vertical-align: middle;\n",
       "    }\n",
       "\n",
       "    .dataframe tbody tr th {\n",
       "        vertical-align: top;\n",
       "    }\n",
       "\n",
       "    .dataframe thead th {\n",
       "        text-align: right;\n",
       "    }\n",
       "</style>\n",
       "<table border=\"1\" class=\"dataframe\">\n",
       "  <thead>\n",
       "    <tr style=\"text-align: right;\">\n",
       "      <th></th>\n",
       "      <th>sentenceId</th>\n",
       "      <th>translationId</th>\n",
       "      <th>created_at</th>\n",
       "      <th>updated_at</th>\n",
       "    </tr>\n",
       "  </thead>\n",
       "  <tbody>\n",
       "    <tr>\n",
       "      <th>1</th>\n",
       "      <td>1</td>\n",
       "      <td>1276</td>\n",
       "      <td>2020-05-16 18:30:40.061776</td>\n",
       "      <td>2020-05-16 18:30:40.608922</td>\n",
       "    </tr>\n",
       "    <tr>\n",
       "      <th>2</th>\n",
       "      <td>1</td>\n",
       "      <td>2481</td>\n",
       "      <td>2020-05-16 18:30:40.061776</td>\n",
       "      <td>2020-05-16 18:30:40.608922</td>\n",
       "    </tr>\n",
       "    <tr>\n",
       "      <th>3</th>\n",
       "      <td>1</td>\n",
       "      <td>5350</td>\n",
       "      <td>2020-05-16 18:30:40.061776</td>\n",
       "      <td>2020-05-16 18:30:40.608922</td>\n",
       "    </tr>\n",
       "    <tr>\n",
       "      <th>4</th>\n",
       "      <td>1</td>\n",
       "      <td>5972</td>\n",
       "      <td>2020-05-16 18:30:40.061776</td>\n",
       "      <td>2020-05-16 18:30:40.608922</td>\n",
       "    </tr>\n",
       "    <tr>\n",
       "      <th>5</th>\n",
       "      <td>1</td>\n",
       "      <td>180624</td>\n",
       "      <td>2020-05-16 18:30:40.061776</td>\n",
       "      <td>2020-05-16 18:30:40.608922</td>\n",
       "    </tr>\n",
       "  </tbody>\n",
       "</table>\n",
       "</div>"
      ],
      "text/plain": [
       "   sentenceId  translationId                 created_at  \\\n",
       "1           1           1276 2020-05-16 18:30:40.061776   \n",
       "2           1           2481 2020-05-16 18:30:40.061776   \n",
       "3           1           5350 2020-05-16 18:30:40.061776   \n",
       "4           1           5972 2020-05-16 18:30:40.061776   \n",
       "5           1         180624 2020-05-16 18:30:40.061776   \n",
       "\n",
       "                  updated_at  \n",
       "1 2020-05-16 18:30:40.608922  \n",
       "2 2020-05-16 18:30:40.608922  \n",
       "3 2020-05-16 18:30:40.608922  \n",
       "4 2020-05-16 18:30:40.608922  \n",
       "5 2020-05-16 18:30:40.608922  "
      ]
     },
     "execution_count": 17,
     "metadata": {},
     "output_type": "execute_result"
    }
   ],
   "source": [
    "links.head()"
   ]
  },
  {
   "cell_type": "code",
   "execution_count": 13,
   "metadata": {},
   "outputs": [],
   "source": [
    "links['createdAt']= datetime.datetime.now()\n",
    "links['updatedAt']= datetime.datetime.now()"
   ]
  },
  {
   "cell_type": "code",
   "execution_count": 16,
   "metadata": {},
   "outputs": [],
   "source": [
    "links.index = range(1, len(links)+1)"
   ]
  },
  {
   "cell_type": "code",
   "execution_count": 18,
   "metadata": {},
   "outputs": [],
   "source": [
    "links.to_csv('links_formatted.csv')"
   ]
  },
  {
   "cell_type": "code",
   "execution_count": 23,
   "metadata": {},
   "outputs": [],
   "source": [
    "sentences = pd.read_csv('sentences.csv', names=[\"tatoebaId\", \"language\", \"text\"], sep='\\t', encoding=\"utf-8\", quoting=csv.QUOTE_NONE)"
   ]
  },
  {
   "cell_type": "code",
   "execution_count": 24,
   "metadata": {},
   "outputs": [
    {
     "data": {
      "text/html": [
       "<div>\n",
       "<style scoped>\n",
       "    .dataframe tbody tr th:only-of-type {\n",
       "        vertical-align: middle;\n",
       "    }\n",
       "\n",
       "    .dataframe tbody tr th {\n",
       "        vertical-align: top;\n",
       "    }\n",
       "\n",
       "    .dataframe thead th {\n",
       "        text-align: right;\n",
       "    }\n",
       "</style>\n",
       "<table border=\"1\" class=\"dataframe\">\n",
       "  <thead>\n",
       "    <tr style=\"text-align: right;\">\n",
       "      <th></th>\n",
       "      <th>tatoebaId</th>\n",
       "      <th>language</th>\n",
       "      <th>text</th>\n",
       "    </tr>\n",
       "  </thead>\n",
       "  <tbody>\n",
       "    <tr>\n",
       "      <th>0</th>\n",
       "      <td>1</td>\n",
       "      <td>cmn</td>\n",
       "      <td>我們試試看！</td>\n",
       "    </tr>\n",
       "    <tr>\n",
       "      <th>1</th>\n",
       "      <td>2</td>\n",
       "      <td>cmn</td>\n",
       "      <td>我该去睡觉了。</td>\n",
       "    </tr>\n",
       "    <tr>\n",
       "      <th>2</th>\n",
       "      <td>3</td>\n",
       "      <td>cmn</td>\n",
       "      <td>你在干什麼啊？</td>\n",
       "    </tr>\n",
       "    <tr>\n",
       "      <th>3</th>\n",
       "      <td>4</td>\n",
       "      <td>cmn</td>\n",
       "      <td>這是什麼啊？</td>\n",
       "    </tr>\n",
       "    <tr>\n",
       "      <th>4</th>\n",
       "      <td>5</td>\n",
       "      <td>cmn</td>\n",
       "      <td>今天是６月１８号，也是Muiriel的生日！</td>\n",
       "    </tr>\n",
       "  </tbody>\n",
       "</table>\n",
       "</div>"
      ],
      "text/plain": [
       "   tatoebaId language                    text\n",
       "0          1      cmn                  我們試試看！\n",
       "1          2      cmn                 我该去睡觉了。\n",
       "2          3      cmn                 你在干什麼啊？\n",
       "3          4      cmn                  這是什麼啊？\n",
       "4          5      cmn  今天是６月１８号，也是Muiriel的生日！"
      ]
     },
     "execution_count": 24,
     "metadata": {},
     "output_type": "execute_result"
    }
   ],
   "source": [
    "sentences.head()"
   ]
  },
  {
   "cell_type": "code",
   "execution_count": 25,
   "metadata": {},
   "outputs": [],
   "source": [
    "sentences.index = range(1, len(sentences)+1)"
   ]
  },
  {
   "cell_type": "code",
   "execution_count": 26,
   "metadata": {},
   "outputs": [],
   "source": [
    "sentences['createdAt']= datetime.datetime.now()\n",
    "sentences['updatedAt']= datetime.datetime.now()"
   ]
  },
  {
   "cell_type": "code",
   "execution_count": 27,
   "metadata": {},
   "outputs": [],
   "source": [
    "sentences.to_csv('sentences_formatted.csv')"
   ]
  },
  {
   "cell_type": "code",
   "execution_count": 19,
   "metadata": {},
   "outputs": [],
   "source": [
    "x = pd.read_csv('sentences_formatted.csv', sep=',')"
   ]
  },
  {
   "cell_type": "code",
   "execution_count": 20,
   "metadata": {},
   "outputs": [
    {
     "data": {
      "text/html": [
       "<div>\n",
       "<style scoped>\n",
       "    .dataframe tbody tr th:only-of-type {\n",
       "        vertical-align: middle;\n",
       "    }\n",
       "\n",
       "    .dataframe tbody tr th {\n",
       "        vertical-align: top;\n",
       "    }\n",
       "\n",
       "    .dataframe thead th {\n",
       "        text-align: right;\n",
       "    }\n",
       "</style>\n",
       "<table border=\"1\" class=\"dataframe\">\n",
       "  <thead>\n",
       "    <tr style=\"text-align: right;\">\n",
       "      <th></th>\n",
       "      <th>Unnamed: 0</th>\n",
       "      <th>tatoebaId</th>\n",
       "      <th>language</th>\n",
       "      <th>text</th>\n",
       "      <th>createdAt</th>\n",
       "      <th>updatedAt</th>\n",
       "    </tr>\n",
       "  </thead>\n",
       "  <tbody>\n",
       "    <tr>\n",
       "      <th>0</th>\n",
       "      <td>1</td>\n",
       "      <td>1</td>\n",
       "      <td>cmn</td>\n",
       "      <td>我們試試看！</td>\n",
       "      <td>2020-05-16 18:43:25.159072</td>\n",
       "      <td>2020-05-16 18:43:25.347485</td>\n",
       "    </tr>\n",
       "    <tr>\n",
       "      <th>1</th>\n",
       "      <td>2</td>\n",
       "      <td>2</td>\n",
       "      <td>cmn</td>\n",
       "      <td>我该去睡觉了。</td>\n",
       "      <td>2020-05-16 18:43:25.159072</td>\n",
       "      <td>2020-05-16 18:43:25.347485</td>\n",
       "    </tr>\n",
       "    <tr>\n",
       "      <th>2</th>\n",
       "      <td>3</td>\n",
       "      <td>3</td>\n",
       "      <td>cmn</td>\n",
       "      <td>你在干什麼啊？</td>\n",
       "      <td>2020-05-16 18:43:25.159072</td>\n",
       "      <td>2020-05-16 18:43:25.347485</td>\n",
       "    </tr>\n",
       "    <tr>\n",
       "      <th>3</th>\n",
       "      <td>4</td>\n",
       "      <td>4</td>\n",
       "      <td>cmn</td>\n",
       "      <td>這是什麼啊？</td>\n",
       "      <td>2020-05-16 18:43:25.159072</td>\n",
       "      <td>2020-05-16 18:43:25.347485</td>\n",
       "    </tr>\n",
       "    <tr>\n",
       "      <th>4</th>\n",
       "      <td>5</td>\n",
       "      <td>5</td>\n",
       "      <td>cmn</td>\n",
       "      <td>今天是６月１８号，也是Muiriel的生日！</td>\n",
       "      <td>2020-05-16 18:43:25.159072</td>\n",
       "      <td>2020-05-16 18:43:25.347485</td>\n",
       "    </tr>\n",
       "  </tbody>\n",
       "</table>\n",
       "</div>"
      ],
      "text/plain": [
       "   Unnamed: 0  tatoebaId language                    text  \\\n",
       "0           1          1      cmn                  我們試試看！   \n",
       "1           2          2      cmn                 我该去睡觉了。   \n",
       "2           3          3      cmn                 你在干什麼啊？   \n",
       "3           4          4      cmn                  這是什麼啊？   \n",
       "4           5          5      cmn  今天是６月１８号，也是Muiriel的生日！   \n",
       "\n",
       "                    createdAt                   updatedAt  \n",
       "0  2020-05-16 18:43:25.159072  2020-05-16 18:43:25.347485  \n",
       "1  2020-05-16 18:43:25.159072  2020-05-16 18:43:25.347485  \n",
       "2  2020-05-16 18:43:25.159072  2020-05-16 18:43:25.347485  \n",
       "3  2020-05-16 18:43:25.159072  2020-05-16 18:43:25.347485  \n",
       "4  2020-05-16 18:43:25.159072  2020-05-16 18:43:25.347485  "
      ]
     },
     "execution_count": 20,
     "metadata": {},
     "output_type": "execute_result"
    }
   ],
   "source": [
    "x.head()"
   ]
  },
  {
   "cell_type": "code",
   "execution_count": 21,
   "metadata": {},
   "outputs": [],
   "source": [
    "y = x[(x['language'] == 'fra') | (x['language'] == 'eng')| (x['language'] == 'spa')| (x['language'] == 'jpn')]"
   ]
  },
  {
   "cell_type": "code",
   "execution_count": 24,
   "metadata": {},
   "outputs": [],
   "source": [
    "y.to_csv('sentences_filtered.csv', index=False)"
   ]
  },
  {
   "cell_type": "code",
   "execution_count": 25,
   "metadata": {},
   "outputs": [],
   "source": [
    "tatoebaIds = y['tatoebaId'].tolist()"
   ]
  },
  {
   "cell_type": "code",
   "execution_count": 32,
   "metadata": {},
   "outputs": [],
   "source": [
    "unfilteredLinks = pd.read_csv('links_formatted.csv', sep=',')"
   ]
  },
  {
   "cell_type": "code",
   "execution_count": 33,
   "metadata": {},
   "outputs": [
    {
     "data": {
      "text/html": [
       "<div>\n",
       "<style scoped>\n",
       "    .dataframe tbody tr th:only-of-type {\n",
       "        vertical-align: middle;\n",
       "    }\n",
       "\n",
       "    .dataframe tbody tr th {\n",
       "        vertical-align: top;\n",
       "    }\n",
       "\n",
       "    .dataframe thead th {\n",
       "        text-align: right;\n",
       "    }\n",
       "</style>\n",
       "<table border=\"1\" class=\"dataframe\">\n",
       "  <thead>\n",
       "    <tr style=\"text-align: right;\">\n",
       "      <th></th>\n",
       "      <th>Unnamed: 0</th>\n",
       "      <th>sentenceId</th>\n",
       "      <th>translationId</th>\n",
       "      <th>created_at</th>\n",
       "      <th>updated_at</th>\n",
       "    </tr>\n",
       "  </thead>\n",
       "  <tbody>\n",
       "    <tr>\n",
       "      <th>0</th>\n",
       "      <td>1</td>\n",
       "      <td>1</td>\n",
       "      <td>1276</td>\n",
       "      <td>2020-05-16 18:30:40.061776</td>\n",
       "      <td>2020-05-16 18:30:40.608922</td>\n",
       "    </tr>\n",
       "    <tr>\n",
       "      <th>1</th>\n",
       "      <td>2</td>\n",
       "      <td>1</td>\n",
       "      <td>2481</td>\n",
       "      <td>2020-05-16 18:30:40.061776</td>\n",
       "      <td>2020-05-16 18:30:40.608922</td>\n",
       "    </tr>\n",
       "    <tr>\n",
       "      <th>2</th>\n",
       "      <td>3</td>\n",
       "      <td>1</td>\n",
       "      <td>5350</td>\n",
       "      <td>2020-05-16 18:30:40.061776</td>\n",
       "      <td>2020-05-16 18:30:40.608922</td>\n",
       "    </tr>\n",
       "    <tr>\n",
       "      <th>3</th>\n",
       "      <td>4</td>\n",
       "      <td>1</td>\n",
       "      <td>5972</td>\n",
       "      <td>2020-05-16 18:30:40.061776</td>\n",
       "      <td>2020-05-16 18:30:40.608922</td>\n",
       "    </tr>\n",
       "    <tr>\n",
       "      <th>4</th>\n",
       "      <td>5</td>\n",
       "      <td>1</td>\n",
       "      <td>180624</td>\n",
       "      <td>2020-05-16 18:30:40.061776</td>\n",
       "      <td>2020-05-16 18:30:40.608922</td>\n",
       "    </tr>\n",
       "  </tbody>\n",
       "</table>\n",
       "</div>"
      ],
      "text/plain": [
       "   Unnamed: 0  sentenceId  translationId                  created_at  \\\n",
       "0           1           1           1276  2020-05-16 18:30:40.061776   \n",
       "1           2           1           2481  2020-05-16 18:30:40.061776   \n",
       "2           3           1           5350  2020-05-16 18:30:40.061776   \n",
       "3           4           1           5972  2020-05-16 18:30:40.061776   \n",
       "4           5           1         180624  2020-05-16 18:30:40.061776   \n",
       "\n",
       "                   updated_at  \n",
       "0  2020-05-16 18:30:40.608922  \n",
       "1  2020-05-16 18:30:40.608922  \n",
       "2  2020-05-16 18:30:40.608922  \n",
       "3  2020-05-16 18:30:40.608922  \n",
       "4  2020-05-16 18:30:40.608922  "
      ]
     },
     "execution_count": 33,
     "metadata": {},
     "output_type": "execute_result"
    }
   ],
   "source": [
    "unfilteredLinks.head()"
   ]
  },
  {
   "cell_type": "code",
   "execution_count": 35,
   "metadata": {},
   "outputs": [],
   "source": [
    "z = unfilteredLinks[unfilteredLinks['sentenceId'].isin(tatoebaIds)]"
   ]
  },
  {
   "cell_type": "code",
   "execution_count": 36,
   "metadata": {},
   "outputs": [
    {
     "data": {
      "text/html": [
       "<div>\n",
       "<style scoped>\n",
       "    .dataframe tbody tr th:only-of-type {\n",
       "        vertical-align: middle;\n",
       "    }\n",
       "\n",
       "    .dataframe tbody tr th {\n",
       "        vertical-align: top;\n",
       "    }\n",
       "\n",
       "    .dataframe thead th {\n",
       "        text-align: right;\n",
       "    }\n",
       "</style>\n",
       "<table border=\"1\" class=\"dataframe\">\n",
       "  <thead>\n",
       "    <tr style=\"text-align: right;\">\n",
       "      <th></th>\n",
       "      <th>Unnamed: 0</th>\n",
       "      <th>sentenceId</th>\n",
       "      <th>translationId</th>\n",
       "      <th>created_at</th>\n",
       "      <th>updated_at</th>\n",
       "    </tr>\n",
       "  </thead>\n",
       "  <tbody>\n",
       "    <tr>\n",
       "      <th>12548</th>\n",
       "      <td>12549</td>\n",
       "      <td>1115</td>\n",
       "      <td>136883</td>\n",
       "      <td>2020-05-16 18:30:40.061776</td>\n",
       "      <td>2020-05-16 18:30:40.608922</td>\n",
       "    </tr>\n",
       "    <tr>\n",
       "      <th>12549</th>\n",
       "      <td>12550</td>\n",
       "      <td>1115</td>\n",
       "      <td>276353</td>\n",
       "      <td>2020-05-16 18:30:40.061776</td>\n",
       "      <td>2020-05-16 18:30:40.608922</td>\n",
       "    </tr>\n",
       "    <tr>\n",
       "      <th>12550</th>\n",
       "      <td>12551</td>\n",
       "      <td>1115</td>\n",
       "      <td>334301</td>\n",
       "      <td>2020-05-16 18:30:40.061776</td>\n",
       "      <td>2020-05-16 18:30:40.608922</td>\n",
       "    </tr>\n",
       "    <tr>\n",
       "      <th>12551</th>\n",
       "      <td>12552</td>\n",
       "      <td>1115</td>\n",
       "      <td>367406</td>\n",
       "      <td>2020-05-16 18:30:40.061776</td>\n",
       "      <td>2020-05-16 18:30:40.608922</td>\n",
       "    </tr>\n",
       "    <tr>\n",
       "      <th>12552</th>\n",
       "      <td>12553</td>\n",
       "      <td>1115</td>\n",
       "      <td>472589</td>\n",
       "      <td>2020-05-16 18:30:40.061776</td>\n",
       "      <td>2020-05-16 18:30:40.608922</td>\n",
       "    </tr>\n",
       "  </tbody>\n",
       "</table>\n",
       "</div>"
      ],
      "text/plain": [
       "       Unnamed: 0  sentenceId  translationId                  created_at  \\\n",
       "12548       12549        1115         136883  2020-05-16 18:30:40.061776   \n",
       "12549       12550        1115         276353  2020-05-16 18:30:40.061776   \n",
       "12550       12551        1115         334301  2020-05-16 18:30:40.061776   \n",
       "12551       12552        1115         367406  2020-05-16 18:30:40.061776   \n",
       "12552       12553        1115         472589  2020-05-16 18:30:40.061776   \n",
       "\n",
       "                       updated_at  \n",
       "12548  2020-05-16 18:30:40.608922  \n",
       "12549  2020-05-16 18:30:40.608922  \n",
       "12550  2020-05-16 18:30:40.608922  \n",
       "12551  2020-05-16 18:30:40.608922  \n",
       "12552  2020-05-16 18:30:40.608922  "
      ]
     },
     "execution_count": 36,
     "metadata": {},
     "output_type": "execute_result"
    }
   ],
   "source": [
    "z.head()"
   ]
  },
  {
   "cell_type": "code",
   "execution_count": 39,
   "metadata": {},
   "outputs": [],
   "source": [
    "test = y[y['tatoebaId'] == 1115]"
   ]
  },
  {
   "cell_type": "code",
   "execution_count": 40,
   "metadata": {},
   "outputs": [
    {
     "data": {
      "text/html": [
       "<div>\n",
       "<style scoped>\n",
       "    .dataframe tbody tr th:only-of-type {\n",
       "        vertical-align: middle;\n",
       "    }\n",
       "\n",
       "    .dataframe tbody tr th {\n",
       "        vertical-align: top;\n",
       "    }\n",
       "\n",
       "    .dataframe thead th {\n",
       "        text-align: right;\n",
       "    }\n",
       "</style>\n",
       "<table border=\"1\" class=\"dataframe\">\n",
       "  <thead>\n",
       "    <tr style=\"text-align: right;\">\n",
       "      <th></th>\n",
       "      <th>Unnamed: 0</th>\n",
       "      <th>tatoebaId</th>\n",
       "      <th>language</th>\n",
       "      <th>text</th>\n",
       "      <th>createdAt</th>\n",
       "      <th>updatedAt</th>\n",
       "    </tr>\n",
       "  </thead>\n",
       "  <tbody>\n",
       "    <tr>\n",
       "      <th>1080</th>\n",
       "      <td>1081</td>\n",
       "      <td>1115</td>\n",
       "      <td>fra</td>\n",
       "      <td>Lorsqu'il a demandé qui avait cassé la fenêtre...</td>\n",
       "      <td>2020-05-16 18:43:25.159072</td>\n",
       "      <td>2020-05-16 18:43:25.347485</td>\n",
       "    </tr>\n",
       "  </tbody>\n",
       "</table>\n",
       "</div>"
      ],
      "text/plain": [
       "      Unnamed: 0  tatoebaId language  \\\n",
       "1080        1081       1115      fra   \n",
       "\n",
       "                                                   text  \\\n",
       "1080  Lorsqu'il a demandé qui avait cassé la fenêtre...   \n",
       "\n",
       "                       createdAt                   updatedAt  \n",
       "1080  2020-05-16 18:43:25.159072  2020-05-16 18:43:25.347485  "
      ]
     },
     "execution_count": 40,
     "metadata": {},
     "output_type": "execute_result"
    }
   ],
   "source": [
    "test"
   ]
  },
  {
   "cell_type": "code",
   "execution_count": null,
   "metadata": {},
   "outputs": [],
   "source": [
    "y.to_csv('sentences_filtered.csv', index=False)"
   ]
  }
 ],
 "metadata": {
  "kernelspec": {
   "display_name": "Python 3",
   "language": "python",
   "name": "python3"
  },
  "language_info": {
   "codemirror_mode": {
    "name": "ipython",
    "version": 3
   },
   "file_extension": ".py",
   "mimetype": "text/x-python",
   "name": "python",
   "nbconvert_exporter": "python",
   "pygments_lexer": "ipython3",
   "version": "3.7.0"
  }
 },
 "nbformat": 4,
 "nbformat_minor": 2
}
